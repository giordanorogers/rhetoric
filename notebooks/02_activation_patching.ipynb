{
 "cells": [
  {
   "cell_type": "code",
   "execution_count": 2,
   "id": "0c0b9b14",
   "metadata": {},
   "outputs": [],
   "source": [
    "%load_ext autoreload\n",
    "%autoreload 2"
   ]
  },
  {
   "cell_type": "code",
   "execution_count": 3,
   "id": "42da4ab5",
   "metadata": {},
   "outputs": [
    {
     "data": {
      "text/plain": [
       "'/disk/u/gio/rhetoric'"
      ]
     },
     "execution_count": 3,
     "metadata": {},
     "output_type": "execute_result"
    }
   ],
   "source": [
    "import os\n",
    "os.chdir(\"/disk/u/gio/rhetoric\")\n",
    "os.getcwd()"
   ]
  },
  {
   "cell_type": "code",
   "execution_count": 4,
   "id": "230fa618",
   "metadata": {},
   "outputs": [],
   "source": [
    "import torch\n",
    "from nnsight import LanguageModel\n",
    "import pandas as pd\n",
    "from tqdm import tqdm"
   ]
  },
  {
   "cell_type": "code",
   "execution_count": 5,
   "id": "5f61defb",
   "metadata": {},
   "outputs": [],
   "source": [
    "from src.config import MODEL_NAME\n",
    "\n",
    "model = LanguageModel(\n",
    "    MODEL_NAME,\n",
    "    device_map=\"auto\",\n",
    "    torch_dtype=torch.float16,\n",
    "    trust_remote_code=True,\n",
    ")\n",
    "tokenizer = model.tokenizer\n",
    "\n",
    "TRUE_TOK = tokenizer.encode(\" True\")[-1]\n",
    "FALSE_TOK = tokenizer.encode(\" False\")[-1]"
   ]
  },
  {
   "cell_type": "code",
   "execution_count": 6,
   "id": "1a497bdb",
   "metadata": {},
   "outputs": [],
   "source": [
    "from src.prompts import compose_prompt\n",
    "\n",
    "def get_prefix_mask(enc_clean, enc_rhet, rhet_len):\n",
    "    \"\"\"\n",
    "    Returns a boolean mask (seq_len, ) that is True only for\n",
    "    the rhetorical prefix in the corrupt prompt.\n",
    "    - enc_clean: token ids of prompt without rhetoric\n",
    "    - enc_rhet: token ids of prompt with rhetoric\n",
    "    - rhet_len: number of prefix tokens added\n",
    "    \"\"\"\n",
    "    mask = torch.zeros_like(enc_rhet, dtype=torch.bool)\n",
    "    mask[:rhet_len] = True\n",
    "    return mask\n",
    "\n",
    "def trace_logits(prompt):\n",
    "    with model.trace(prompt):\n",
    "        logits = model.output.logits[0].save()\n",
    "    return logits[-1] # final-token logits (1, vocab)"
   ]
  },
  {
   "cell_type": "code",
   "execution_count": 7,
   "id": "0495f602",
   "metadata": {},
   "outputs": [],
   "source": [
    "from src.utils import load_claims_jsonl\n",
    "from src.config import CLAIMS_PATH\n",
    "\n",
    "claims = load_claims_jsonl(CLAIMS_PATH)"
   ]
  },
  {
   "cell_type": "code",
   "execution_count": 13,
   "id": "8bed100e",
   "metadata": {},
   "outputs": [],
   "source": [
    "from src.config import RHETORIC\n",
    "\n",
    "claim_text = claims[0].text\n",
    "rhetoric_class = \"authority\"\n",
    "intensity = 2\n",
    "rhetoric_len = len(\n",
    "    tokenizer.encode(\n",
    "        RHETORIC[rhetoric_class][intensity]\n",
    "    )\n",
    ")\n",
    "\n",
    "clean_prompt = compose_prompt(claim_text, rhetoric_class=None)\n",
    "rhetoric_prompt = compose_prompt(\n",
    "    claim_text, rhetoric_class=rhetoric_class, intensity=intensity\n",
    ")\n",
    "\n",
    "enc_clean = torch.tensor(tokenizer.encode(clean_prompt))\n",
    "enc_rhet = torch.tensor(tokenizer.encode(rhetoric_prompt))\n",
    "\n",
    "prefix_mask = get_prefix_mask(enc_clean, enc_rhet, rhetoric_len)"
   ]
  },
  {
   "cell_type": "code",
   "execution_count": 33,
   "id": "91df2c47",
   "metadata": {},
   "outputs": [
    {
     "name": "stdout",
     "output_type": "stream",
     "text": [
      "Clean logit diff: 0.625\n",
      "Rhetoric logit diff: 1.977\n"
     ]
    }
   ],
   "source": [
    "# Baseline Logits\n",
    "logits_clean = trace_logits(clean_prompt)\n",
    "logits_rhetoric = trace_logits(rhetoric_prompt)\n",
    "\n",
    "clean_diff = (logits_clean[TRUE_TOK] - logits_clean[FALSE_TOK]).item()\n",
    "base_diff = (logits_rhetoric[TRUE_TOK] - logits_rhetoric[FALSE_TOK]).item()\n",
    "\n",
    "print(f\"Clean logit diff: {clean_diff:.3f}\")\n",
    "print(f\"Rhetoric logit diff: {base_diff:.3f}\")"
   ]
  },
  {
   "cell_type": "code",
   "execution_count": 16,
   "id": "3b33d770",
   "metadata": {},
   "outputs": [
    {
     "data": {
      "text/plain": [
       "17"
      ]
     },
     "execution_count": 16,
     "metadata": {},
     "output_type": "execute_result"
    }
   ],
   "source": [
    "prefix_len = len(enc_rhet) - len(enc_clean)\n",
    "prefix_len"
   ]
  },
  {
   "cell_type": "code",
   "execution_count": 18,
   "id": "6cbf5c3a",
   "metadata": {},
   "outputs": [
    {
     "name": "stderr",
     "output_type": "stream",
     "text": [
      "100%|██████████| 32/32 [00:02<00:00, 14.11it/s]\n"
     ]
    }
   ],
   "source": [
    "from src.analysis import collect_activations\n",
    "\n",
    "clean_activations = collect_activations(\n",
    "    model=model,\n",
    "    prompt=clean_prompt\n",
    ")"
   ]
  },
  {
   "cell_type": "code",
   "execution_count": 35,
   "id": "b3488c01",
   "metadata": {},
   "outputs": [
    {
     "name": "stderr",
     "output_type": "stream",
     "text": [
      "  0%|          | 0/32 [00:00<?, ?it/s]"
     ]
    },
    {
     "name": "stdout",
     "output_type": "stream",
     "text": [
      "L0, T17, LD=-0.28901734104046245\n",
      "L0, T18, LD=-0.04046242774566474\n",
      "L0, T19, LD=0.023121387283236993\n",
      "L0, T20, LD=-0.017341040462427744\n",
      "L0, T21, LD=0.005780346820809248\n",
      "L0, T22, LD=0.005780346820809248\n",
      "L0, T23, LD=0.011560693641618497\n",
      "L0, T24, LD=-0.011560693641618497\n",
      "L0, T25, LD=-0.0\n",
      "L0, T26, LD=-0.04046242774566474\n"
     ]
    },
    {
     "name": "stderr",
     "output_type": "stream",
     "text": [
      "  3%|▎         | 1/32 [00:00<00:30,  1.02it/s]"
     ]
    },
    {
     "name": "stdout",
     "output_type": "stream",
     "text": [
      "L0, T27, LD=-0.0\n",
      "L0, T28, LD=-0.24277456647398843\n",
      "L0, T29, LD=-0.046242774566473986\n",
      "L0, T30, LD=-0.046242774566473986\n",
      "L1, T17, LD=-0.2254335260115607\n",
      "L1, T18, LD=-0.06936416184971098\n",
      "L1, T19, LD=-0.03468208092485549\n",
      "L1, T20, LD=0.08670520231213873\n",
      "L1, T21, LD=-0.011560693641618497\n",
      "L1, T22, LD=0.1329479768786127\n",
      "L1, T23, LD=0.10404624277456648\n",
      "L1, T24, LD=0.028901734104046242\n",
      "L1, T25, LD=-0.15606936416184972\n",
      "L1, T26, LD=-0.023121387283236993\n",
      "L1, T27, LD=-0.07514450867052024\n",
      "L1, T28, LD=-0.2543352601156069\n"
     ]
    },
    {
     "name": "stderr",
     "output_type": "stream",
     "text": [
      "  6%|▋         | 2/32 [00:01<00:25,  1.16it/s]"
     ]
    },
    {
     "name": "stdout",
     "output_type": "stream",
     "text": [
      "L1, T29, LD=-0.017341040462427744\n",
      "L1, T30, LD=-0.10982658959537572\n",
      "L2, T17, LD=-0.28901734104046245\n",
      "L2, T18, LD=-0.08670520231213873\n",
      "L2, T19, LD=-0.15606936416184972\n",
      "L2, T20, LD=-0.04046242774566474\n",
      "L2, T21, LD=0.023121387283236993\n",
      "L2, T22, LD=0.1676300578034682\n",
      "L2, T23, LD=0.1907514450867052\n",
      "L2, T24, LD=0.046242774566473986\n",
      "L2, T25, LD=-0.27167630057803466\n",
      "L2, T26, LD=0.057803468208092484\n"
     ]
    },
    {
     "name": "stderr",
     "output_type": "stream",
     "text": [
      "  9%|▉         | 3/32 [00:02<00:23,  1.21it/s]"
     ]
    },
    {
     "name": "stdout",
     "output_type": "stream",
     "text": [
      "L2, T27, LD=-0.3352601156069364\n",
      "L2, T28, LD=-0.4277456647398844\n",
      "L2, T29, LD=-0.03468208092485549\n",
      "L2, T30, LD=-0.24855491329479767\n",
      "L3, T17, LD=-0.4624277456647399\n",
      "L3, T18, LD=-0.023121387283236993\n",
      "L3, T19, LD=-0.15606936416184972\n",
      "L3, T20, LD=-0.07514450867052024\n",
      "L3, T21, LD=0.057803468208092484\n",
      "L3, T22, LD=0.1676300578034682\n",
      "L3, T23, LD=0.2832369942196532\n",
      "L3, T24, LD=-0.17341040462427745\n",
      "L3, T25, LD=-0.26011560693641617\n",
      "L3, T26, LD=0.023121387283236993\n",
      "L3, T27, LD=-0.5086705202312138\n",
      "L3, T28, LD=-0.5028901734104047\n"
     ]
    },
    {
     "name": "stderr",
     "output_type": "stream",
     "text": [
      " 12%|█▎        | 4/32 [00:03<00:22,  1.23it/s]"
     ]
    },
    {
     "name": "stdout",
     "output_type": "stream",
     "text": [
      "L3, T29, LD=-0.057803468208092484\n",
      "L3, T30, LD=-0.23699421965317918\n",
      "L4, T17, LD=-0.06936416184971098\n",
      "L4, T18, LD=-0.09826589595375723\n",
      "L4, T19, LD=-0.10982658959537572\n",
      "L4, T20, LD=-0.057803468208092484\n",
      "L4, T21, LD=0.017341040462427744\n",
      "L4, T22, LD=0.1907514450867052\n",
      "L4, T23, LD=0.32947976878612717\n",
      "L4, T24, LD=0.27167630057803466\n",
      "L4, T25, LD=-0.18497109826589594\n",
      "L4, T26, LD=-0.005780346820809248\n"
     ]
    },
    {
     "name": "stderr",
     "output_type": "stream",
     "text": [
      " 16%|█▌        | 5/32 [00:04<00:21,  1.25it/s]"
     ]
    },
    {
     "name": "stdout",
     "output_type": "stream",
     "text": [
      "L4, T27, LD=-0.3930635838150289\n",
      "L4, T28, LD=-0.5953757225433526\n",
      "L4, T29, LD=-0.023121387283236993\n",
      "L4, T30, LD=-0.6069364161849711\n",
      "L5, T17, LD=-0.12716763005780346\n",
      "L5, T18, LD=-0.3583815028901734\n",
      "L5, T19, LD=-0.07514450867052024\n",
      "L5, T20, LD=-0.023121387283236993\n",
      "L5, T21, LD=0.03468208092485549\n",
      "L5, T22, LD=0.15606936416184972\n",
      "L5, T23, LD=0.36416184971098264\n",
      "L5, T24, LD=1.2080924855491328\n",
      "L5, T25, LD=-0.13872832369942195\n",
      "L5, T26, LD=0.017341040462427744\n",
      "L5, T27, LD=-0.4046242774566474\n",
      "L5, T28, LD=-0.6242774566473989\n"
     ]
    },
    {
     "name": "stderr",
     "output_type": "stream",
     "text": [
      " 19%|█▉        | 6/32 [00:04<00:20,  1.26it/s]"
     ]
    },
    {
     "name": "stdout",
     "output_type": "stream",
     "text": [
      "L5, T29, LD=-0.028901734104046242\n",
      "L5, T30, LD=-0.7456647398843931\n",
      "L6, T17, LD=-0.15028901734104047\n",
      "L6, T18, LD=-0.27167630057803466\n",
      "L6, T19, LD=0.011560693641618497\n",
      "L6, T20, LD=-0.06936416184971098\n",
      "L6, T21, LD=-0.08670520231213873\n",
      "L6, T22, LD=0.017341040462427744\n",
      "L6, T23, LD=0.37572254335260113\n",
      "L6, T24, LD=1.4739884393063585\n",
      "L6, T25, LD=-0.15028901734104047\n",
      "L6, T26, LD=0.011560693641618497\n"
     ]
    },
    {
     "name": "stderr",
     "output_type": "stream",
     "text": [
      " 22%|██▏       | 7/32 [00:05<00:19,  1.27it/s]"
     ]
    },
    {
     "name": "stdout",
     "output_type": "stream",
     "text": [
      "L6, T27, LD=-0.2658959537572254\n",
      "L6, T28, LD=-0.5375722543352601\n",
      "L6, T29, LD=-0.028901734104046242\n",
      "L6, T30, LD=-0.815028901734104\n",
      "L7, T17, LD=0.12716763005780346\n",
      "L7, T18, LD=-0.1791907514450867\n",
      "L7, T19, LD=0.1676300578034682\n",
      "L7, T20, LD=0.10982658959537572\n",
      "L7, T21, LD=-0.19653179190751446\n",
      "L7, T22, LD=-0.03468208092485549\n",
      "L7, T23, LD=0.45664739884393063\n",
      "L7, T24, LD=1.138728323699422\n",
      "L7, T25, LD=0.005780346820809248\n",
      "L7, T26, LD=0.023121387283236993\n",
      "L7, T27, LD=-0.4277456647398844\n",
      "L7, T28, LD=-0.16184971098265896\n"
     ]
    },
    {
     "name": "stderr",
     "output_type": "stream",
     "text": [
      " 25%|██▌       | 8/32 [00:06<00:18,  1.27it/s]"
     ]
    },
    {
     "name": "stdout",
     "output_type": "stream",
     "text": [
      "L7, T29, LD=-0.05202312138728324\n",
      "L7, T30, LD=-0.861271676300578\n",
      "L8, T17, LD=-0.03468208092485549\n",
      "L8, T18, LD=0.10982658959537572\n",
      "L8, T19, LD=0.1676300578034682\n",
      "L8, T20, LD=0.1907514450867052\n",
      "L8, T21, LD=-0.046242774566473986\n",
      "L8, T22, LD=0.04046242774566474\n",
      "L8, T23, LD=0.6878612716763006\n",
      "L8, T24, LD=1.3583815028901733\n",
      "L8, T25, LD=0.10982658959537572\n",
      "L8, T26, LD=0.023121387283236993\n"
     ]
    },
    {
     "name": "stderr",
     "output_type": "stream",
     "text": [
      " 28%|██▊       | 9/32 [00:07<00:18,  1.27it/s]"
     ]
    },
    {
     "name": "stdout",
     "output_type": "stream",
     "text": [
      "L8, T27, LD=-0.5260115606936416\n",
      "L8, T28, LD=-0.5260115606936416\n",
      "L8, T29, LD=-0.005780346820809248\n",
      "L8, T30, LD=-0.9190751445086706\n",
      "L9, T17, LD=-0.08092485549132948\n",
      "L9, T18, LD=0.3063583815028902\n",
      "L9, T19, LD=0.2138728323699422\n",
      "L9, T20, LD=0.2023121387283237\n",
      "L9, T21, LD=-0.2138728323699422\n",
      "L9, T22, LD=0.06358381502890173\n",
      "L9, T23, LD=0.8728323699421965\n",
      "L9, T24, LD=1.254335260115607\n",
      "L9, T25, LD=0.2254335260115607\n",
      "L9, T26, LD=-0.04046242774566474\n",
      "L9, T27, LD=-0.5549132947976878\n",
      "L9, T28, LD=-0.6820809248554913\n"
     ]
    },
    {
     "name": "stderr",
     "output_type": "stream",
     "text": [
      " 31%|███▏      | 10/32 [00:08<00:17,  1.27it/s]"
     ]
    },
    {
     "name": "stdout",
     "output_type": "stream",
     "text": [
      "L9, T29, LD=-0.10982658959537572\n",
      "L9, T30, LD=-0.6763005780346821\n",
      "L10, T17, LD=-0.0\n",
      "L10, T18, LD=-0.005780346820809248\n",
      "L10, T19, LD=0.12138728323699421\n",
      "L10, T20, LD=0.028901734104046242\n",
      "L10, T21, LD=-0.16184971098265896\n",
      "L10, T22, LD=-0.1329479768786127\n",
      "L10, T23, LD=0.9190751445086706\n",
      "L10, T24, LD=1.300578034682081\n",
      "L10, T25, LD=0.5722543352601156\n",
      "L10, T26, LD=0.023121387283236993\n"
     ]
    },
    {
     "name": "stderr",
     "output_type": "stream",
     "text": [
      " 34%|███▍      | 11/32 [00:08<00:16,  1.28it/s]"
     ]
    },
    {
     "name": "stdout",
     "output_type": "stream",
     "text": [
      "L10, T27, LD=-0.1907514450867052\n",
      "L10, T28, LD=-0.3872832369942196\n",
      "L10, T29, LD=-0.06936416184971098\n",
      "L10, T30, LD=-0.953757225433526\n",
      "L11, T17, LD=0.2023121387283237\n",
      "L11, T18, LD=0.14450867052023122\n",
      "L11, T19, LD=0.046242774566473986\n",
      "L11, T20, LD=0.15606936416184972\n",
      "L11, T21, LD=-0.31213872832369943\n",
      "L11, T22, LD=-0.23121387283236994\n",
      "L11, T23, LD=0.9653179190751445\n",
      "L11, T24, LD=0.9653179190751445\n",
      "L11, T25, LD=0.5028901734104047\n",
      "L11, T26, LD=0.05202312138728324\n",
      "L11, T27, LD=0.09826589595375723\n",
      "L11, T28, LD=-0.2138728323699422\n"
     ]
    },
    {
     "name": "stderr",
     "output_type": "stream",
     "text": [
      " 38%|███▊      | 12/32 [00:09<00:15,  1.27it/s]"
     ]
    },
    {
     "name": "stdout",
     "output_type": "stream",
     "text": [
      "L11, T29, LD=-0.04046242774566474\n",
      "L11, T30, LD=-1.2947976878612717\n",
      "L12, T17, LD=-0.1907514450867052\n",
      "L12, T18, LD=0.04046242774566474\n",
      "L12, T19, LD=0.03468208092485549\n",
      "L12, T20, LD=0.028901734104046242\n",
      "L12, T21, LD=-0.23121387283236994\n",
      "L12, T22, LD=-0.13872832369942195\n",
      "L12, T23, LD=0.3988439306358382\n",
      "L12, T24, LD=0.930635838150289\n",
      "L12, T25, LD=0.5260115606936416\n",
      "L12, T26, LD=0.06358381502890173\n"
     ]
    },
    {
     "name": "stderr",
     "output_type": "stream",
     "text": [
      " 41%|████      | 13/32 [00:10<00:14,  1.27it/s]"
     ]
    },
    {
     "name": "stdout",
     "output_type": "stream",
     "text": [
      "L12, T27, LD=-0.017341040462427744\n",
      "L12, T28, LD=-0.44508670520231214\n",
      "L12, T29, LD=0.08670520231213873\n",
      "L12, T30, LD=-0.7861271676300579\n",
      "L13, T17, LD=-0.13872832369942195\n",
      "L13, T18, LD=-0.005780346820809248\n",
      "L13, T19, LD=0.011560693641618497\n",
      "L13, T20, LD=-0.0\n",
      "L13, T21, LD=-0.028901734104046242\n",
      "L13, T22, LD=-0.04046242774566474\n",
      "L13, T23, LD=0.07514450867052024\n",
      "L13, T24, LD=0.3988439306358382\n",
      "L13, T25, LD=0.36416184971098264\n",
      "L13, T26, LD=0.05202312138728324\n",
      "L13, T27, LD=-0.2832369942196532\n",
      "L13, T28, LD=-0.37572254335260113\n"
     ]
    },
    {
     "name": "stderr",
     "output_type": "stream",
     "text": [
      " 44%|████▍     | 14/32 [00:11<00:14,  1.27it/s]"
     ]
    },
    {
     "name": "stdout",
     "output_type": "stream",
     "text": [
      "L13, T29, LD=0.07514450867052024\n",
      "L13, T30, LD=-0.017341040462427744\n",
      "L14, T17, LD=0.04046242774566474\n",
      "L14, T18, LD=-0.023121387283236993\n",
      "L14, T19, LD=-0.005780346820809248\n",
      "L14, T20, LD=-0.005780346820809248\n",
      "L14, T21, LD=-0.023121387283236993\n",
      "L14, T22, LD=-0.011560693641618497\n",
      "L14, T23, LD=0.08092485549132948\n",
      "L14, T24, LD=0.023121387283236993\n",
      "L14, T25, LD=0.26011560693641617\n",
      "L14, T26, LD=0.028901734104046242\n"
     ]
    },
    {
     "name": "stderr",
     "output_type": "stream",
     "text": [
      " 47%|████▋     | 15/32 [00:11<00:13,  1.26it/s]"
     ]
    },
    {
     "name": "stdout",
     "output_type": "stream",
     "text": [
      "L14, T27, LD=-0.09248554913294797\n",
      "L14, T28, LD=-0.3988439306358382\n",
      "L14, T29, LD=0.07514450867052024\n",
      "L14, T30, LD=0.9421965317919075\n",
      "L15, T17, LD=0.07514450867052024\n",
      "L15, T18, LD=-0.023121387283236993\n",
      "L15, T19, LD=0.005780346820809248\n",
      "L15, T20, LD=-0.0\n",
      "L15, T21, LD=-0.005780346820809248\n",
      "L15, T22, LD=-0.0\n",
      "L15, T23, LD=-0.005780346820809248\n",
      "L15, T24, LD=0.14450867052023122\n",
      "L15, T25, LD=0.1676300578034682\n",
      "L15, T26, LD=0.046242774566473986\n",
      "L15, T27, LD=-0.005780346820809248\n",
      "L15, T28, LD=-0.2254335260115607\n"
     ]
    },
    {
     "name": "stderr",
     "output_type": "stream",
     "text": [
      " 50%|█████     | 16/32 [00:12<00:12,  1.26it/s]"
     ]
    },
    {
     "name": "stdout",
     "output_type": "stream",
     "text": [
      "L15, T29, LD=0.05202312138728324\n",
      "L15, T30, LD=0.838150289017341\n",
      "L16, T17, LD=0.2138728323699422\n",
      "L16, T18, LD=-0.011560693641618497\n",
      "L16, T19, LD=0.005780346820809248\n",
      "L16, T20, LD=-0.0\n",
      "L16, T21, LD=-0.0\n",
      "L16, T22, LD=0.005780346820809248\n",
      "L16, T23, LD=-0.005780346820809248\n",
      "L16, T24, LD=0.10404624277456648\n",
      "L16, T25, LD=0.1329479768786127\n",
      "L16, T26, LD=0.03468208092485549\n"
     ]
    },
    {
     "name": "stderr",
     "output_type": "stream",
     "text": [
      " 53%|█████▎    | 17/32 [00:13<00:11,  1.26it/s]"
     ]
    },
    {
     "name": "stdout",
     "output_type": "stream",
     "text": [
      "L16, T27, LD=-0.08092485549132948\n",
      "L16, T28, LD=-0.2023121387283237\n",
      "L16, T29, LD=0.04046242774566474\n",
      "L16, T30, LD=1.1618497109826589\n",
      "L17, T17, LD=0.18497109826589594\n",
      "L17, T18, LD=-0.017341040462427744\n",
      "L17, T19, LD=0.005780346820809248\n",
      "L17, T20, LD=-0.005780346820809248\n",
      "L17, T21, LD=-0.0\n",
      "L17, T22, LD=-0.005780346820809248\n",
      "L17, T23, LD=-0.0\n",
      "L17, T24, LD=0.011560693641618497\n",
      "L17, T25, LD=0.12138728323699421\n",
      "L17, T26, LD=0.017341040462427744\n",
      "L17, T27, LD=-0.06936416184971098\n",
      "L17, T28, LD=-0.14450867052023122\n"
     ]
    },
    {
     "name": "stderr",
     "output_type": "stream",
     "text": [
      " 56%|█████▋    | 18/32 [00:14<00:11,  1.26it/s]"
     ]
    },
    {
     "name": "stdout",
     "output_type": "stream",
     "text": [
      "L17, T29, LD=-0.017341040462427744\n",
      "L17, T30, LD=1.2196531791907514\n",
      "L18, T17, LD=0.11560693641618497\n",
      "L18, T18, LD=-0.011560693641618497\n",
      "L18, T19, LD=0.005780346820809248\n",
      "L18, T20, LD=-0.0\n",
      "L18, T21, LD=-0.0\n",
      "L18, T22, LD=-0.005780346820809248\n",
      "L18, T23, LD=-0.0\n",
      "L18, T24, LD=0.005780346820809248\n",
      "L18, T25, LD=0.10982658959537572\n",
      "L18, T26, LD=-0.0\n"
     ]
    },
    {
     "name": "stderr",
     "output_type": "stream",
     "text": [
      " 59%|█████▉    | 19/32 [00:15<00:10,  1.26it/s]"
     ]
    },
    {
     "name": "stdout",
     "output_type": "stream",
     "text": [
      "L18, T27, LD=-0.04046242774566474\n",
      "L18, T28, LD=-0.1329479768786127\n",
      "L18, T29, LD=-0.028901734104046242\n",
      "L18, T30, LD=1.2427745664739884\n",
      "L19, T17, LD=0.1329479768786127\n",
      "L19, T18, LD=-0.017341040462427744\n",
      "L19, T19, LD=-0.005780346820809248\n",
      "L19, T20, LD=-0.0\n",
      "L19, T21, LD=-0.0\n",
      "L19, T22, LD=-0.0\n",
      "L19, T23, LD=0.005780346820809248\n",
      "L19, T24, LD=0.005780346820809248\n",
      "L19, T25, LD=0.12138728323699421\n",
      "L19, T26, LD=0.011560693641618497\n",
      "L19, T27, LD=-0.05202312138728324\n",
      "L19, T28, LD=-0.14450867052023122\n"
     ]
    },
    {
     "name": "stderr",
     "output_type": "stream",
     "text": [
      " 62%|██████▎   | 20/32 [00:15<00:09,  1.26it/s]"
     ]
    },
    {
     "name": "stdout",
     "output_type": "stream",
     "text": [
      "L19, T29, LD=-0.04046242774566474\n",
      "L19, T30, LD=1.1965317919075145\n",
      "L20, T17, LD=0.08670520231213873\n",
      "L20, T18, LD=-0.005780346820809248\n",
      "L20, T19, LD=0.005780346820809248\n",
      "L20, T20, LD=-0.0\n",
      "L20, T21, LD=-0.0\n",
      "L20, T22, LD=0.005780346820809248\n",
      "L20, T23, LD=-0.0\n",
      "L20, T24, LD=0.011560693641618497\n",
      "L20, T25, LD=0.14450867052023122\n",
      "L20, T26, LD=-0.005780346820809248\n"
     ]
    },
    {
     "name": "stderr",
     "output_type": "stream",
     "text": [
      " 66%|██████▌   | 21/32 [00:16<00:08,  1.26it/s]"
     ]
    },
    {
     "name": "stdout",
     "output_type": "stream",
     "text": [
      "L20, T27, LD=-0.10404624277456648\n",
      "L20, T28, LD=-0.1907514450867052\n",
      "L20, T29, LD=-0.04046242774566474\n",
      "L20, T30, LD=1.1965317919075145\n",
      "L21, T17, LD=0.04046242774566474\n",
      "L21, T18, LD=-0.005780346820809248\n",
      "L21, T19, LD=0.005780346820809248\n",
      "L21, T20, LD=-0.005780346820809248\n",
      "L21, T21, LD=0.011560693641618497\n",
      "L21, T22, LD=-0.005780346820809248\n",
      "L21, T23, LD=0.005780346820809248\n",
      "L21, T24, LD=-0.0\n",
      "L21, T25, LD=0.12138728323699421\n",
      "L21, T26, LD=0.017341040462427744\n",
      "L21, T27, LD=-0.13872832369942195\n",
      "L21, T28, LD=-0.12138728323699421\n"
     ]
    },
    {
     "name": "stderr",
     "output_type": "stream",
     "text": [
      " 69%|██████▉   | 22/32 [00:17<00:07,  1.27it/s]"
     ]
    },
    {
     "name": "stdout",
     "output_type": "stream",
     "text": [
      "L21, T29, LD=-0.06358381502890173\n",
      "L21, T30, LD=1.1618497109826589\n",
      "L22, T17, LD=0.023121387283236993\n",
      "L22, T18, LD=-0.005780346820809248\n",
      "L22, T19, LD=-0.0\n",
      "L22, T20, LD=-0.005780346820809248\n",
      "L22, T21, LD=0.011560693641618497\n",
      "L22, T22, LD=0.005780346820809248\n",
      "L22, T23, LD=-0.0\n",
      "L22, T24, LD=0.011560693641618497\n",
      "L22, T25, LD=0.09826589595375723\n",
      "L22, T26, LD=0.011560693641618497\n"
     ]
    },
    {
     "name": "stderr",
     "output_type": "stream",
     "text": [
      " 72%|███████▏  | 23/32 [00:18<00:07,  1.27it/s]"
     ]
    },
    {
     "name": "stdout",
     "output_type": "stream",
     "text": [
      "L22, T27, LD=-0.10982658959537572\n",
      "L22, T28, LD=-0.10982658959537572\n",
      "L22, T29, LD=-0.07514450867052024\n",
      "L22, T30, LD=1.1618497109826589\n",
      "L23, T17, LD=0.046242774566473986\n",
      "L23, T18, LD=-0.011560693641618497\n",
      "L23, T19, LD=-0.0\n",
      "L23, T20, LD=-0.005780346820809248\n",
      "L23, T21, LD=0.005780346820809248\n",
      "L23, T22, LD=-0.005780346820809248\n",
      "L23, T23, LD=-0.0\n",
      "L23, T24, LD=0.005780346820809248\n",
      "L23, T25, LD=0.09826589595375723\n",
      "L23, T26, LD=0.011560693641618497\n",
      "L23, T27, LD=-0.12138728323699421\n",
      "L23, T28, LD=-0.10982658959537572\n"
     ]
    },
    {
     "name": "stderr",
     "output_type": "stream",
     "text": [
      " 75%|███████▌  | 24/32 [00:19<00:06,  1.27it/s]"
     ]
    },
    {
     "name": "stdout",
     "output_type": "stream",
     "text": [
      "L23, T29, LD=-0.08670520231213873\n",
      "L23, T30, LD=1.1734104046242775\n",
      "L24, T17, LD=0.057803468208092484\n",
      "L24, T18, LD=-0.005780346820809248\n",
      "L24, T19, LD=-0.0\n",
      "L24, T20, LD=-0.005780346820809248\n",
      "L24, T21, LD=-0.005780346820809248\n",
      "L24, T22, LD=-0.005780346820809248\n",
      "L24, T23, LD=-0.0\n",
      "L24, T24, LD=-0.005780346820809248\n",
      "L24, T25, LD=0.03468208092485549\n",
      "L24, T26, LD=0.005780346820809248\n"
     ]
    },
    {
     "name": "stderr",
     "output_type": "stream",
     "text": [
      " 78%|███████▊  | 25/32 [00:19<00:05,  1.28it/s]"
     ]
    },
    {
     "name": "stdout",
     "output_type": "stream",
     "text": [
      "L24, T27, LD=-0.12138728323699421\n",
      "L24, T28, LD=-0.06358381502890173\n",
      "L24, T29, LD=-0.07514450867052024\n",
      "L24, T30, LD=1.1849710982658959\n",
      "L25, T17, LD=0.04046242774566474\n",
      "L25, T18, LD=-0.005780346820809248\n",
      "L25, T19, LD=-0.0\n",
      "L25, T20, LD=0.005780346820809248\n",
      "L25, T21, LD=0.005780346820809248\n",
      "L25, T22, LD=-0.005780346820809248\n",
      "L25, T23, LD=0.005780346820809248\n",
      "L25, T24, LD=0.011560693641618497\n",
      "L25, T25, LD=0.023121387283236993\n",
      "L25, T26, LD=-0.0\n",
      "L25, T27, LD=-0.10404624277456648\n",
      "L25, T28, LD=-0.05202312138728324\n"
     ]
    },
    {
     "name": "stderr",
     "output_type": "stream",
     "text": [
      " 81%|████████▏ | 26/32 [00:20<00:04,  1.28it/s]"
     ]
    },
    {
     "name": "stdout",
     "output_type": "stream",
     "text": [
      "L25, T29, LD=-0.07514450867052024\n",
      "L25, T30, LD=1.1502890173410405\n",
      "L26, T17, LD=0.011560693641618497\n",
      "L26, T18, LD=-0.005780346820809248\n",
      "L26, T19, LD=-0.0\n",
      "L26, T20, LD=-0.0\n",
      "L26, T21, LD=0.005780346820809248\n",
      "L26, T22, LD=-0.0\n",
      "L26, T23, LD=0.005780346820809248\n",
      "L26, T24, LD=-0.005780346820809248\n",
      "L26, T25, LD=0.023121387283236993\n",
      "L26, T26, LD=0.011560693641618497\n"
     ]
    },
    {
     "name": "stderr",
     "output_type": "stream",
     "text": [
      " 84%|████████▍ | 27/32 [00:21<00:03,  1.28it/s]"
     ]
    },
    {
     "name": "stdout",
     "output_type": "stream",
     "text": [
      "L26, T27, LD=-0.09248554913294797\n",
      "L26, T28, LD=-0.07514450867052024\n",
      "L26, T29, LD=-0.09826589595375723\n",
      "L26, T30, LD=1.1502890173410405\n",
      "L27, T17, LD=0.04046242774566474\n",
      "L27, T18, LD=-0.0\n",
      "L27, T19, LD=-0.0\n",
      "L27, T20, LD=-0.005780346820809248\n",
      "L27, T21, LD=0.005780346820809248\n",
      "L27, T22, LD=-0.0\n",
      "L27, T23, LD=0.005780346820809248\n",
      "L27, T24, LD=-0.005780346820809248\n",
      "L27, T25, LD=0.023121387283236993\n",
      "L27, T26, LD=0.005780346820809248\n",
      "L27, T27, LD=-0.05202312138728324\n",
      "L27, T28, LD=-0.06358381502890173\n"
     ]
    },
    {
     "name": "stderr",
     "output_type": "stream",
     "text": [
      " 88%|████████▊ | 28/32 [00:22<00:03,  1.28it/s]"
     ]
    },
    {
     "name": "stdout",
     "output_type": "stream",
     "text": [
      "L27, T29, LD=-0.04046242774566474\n",
      "L27, T30, LD=1.0809248554913296\n",
      "L28, T17, LD=0.023121387283236993\n",
      "L28, T18, LD=-0.0\n",
      "L28, T19, LD=-0.0\n",
      "L28, T20, LD=0.005780346820809248\n",
      "L28, T21, LD=0.005780346820809248\n",
      "L28, T22, LD=-0.005780346820809248\n",
      "L28, T23, LD=-0.0\n",
      "L28, T24, LD=-0.005780346820809248\n",
      "L28, T25, LD=-0.023121387283236993\n",
      "L28, T26, LD=0.005780346820809248\n"
     ]
    },
    {
     "name": "stderr",
     "output_type": "stream",
     "text": [
      " 91%|█████████ | 29/32 [00:22<00:02,  1.28it/s]"
     ]
    },
    {
     "name": "stdout",
     "output_type": "stream",
     "text": [
      "L28, T27, LD=-0.03468208092485549\n",
      "L28, T28, LD=-0.04046242774566474\n",
      "L28, T29, LD=-0.04046242774566474\n",
      "L28, T30, LD=1.0578034682080926\n",
      "L29, T17, LD=0.046242774566473986\n",
      "L29, T18, LD=-0.0\n",
      "L29, T19, LD=-0.0\n",
      "L29, T20, LD=-0.0\n",
      "L29, T21, LD=-0.005780346820809248\n",
      "L29, T22, LD=-0.0\n",
      "L29, T23, LD=-0.005780346820809248\n",
      "L29, T24, LD=-0.005780346820809248\n",
      "L29, T25, LD=-0.005780346820809248\n",
      "L29, T26, LD=-0.0\n",
      "L29, T27, LD=-0.028901734104046242\n",
      "L29, T28, LD=-0.028901734104046242\n"
     ]
    },
    {
     "name": "stderr",
     "output_type": "stream",
     "text": [
      " 94%|█████████▍| 30/32 [00:23<00:01,  1.28it/s]"
     ]
    },
    {
     "name": "stdout",
     "output_type": "stream",
     "text": [
      "L29, T29, LD=0.017341040462427744\n",
      "L29, T30, LD=1.046242774566474\n",
      "L30, T17, LD=0.057803468208092484\n",
      "L30, T18, LD=-0.0\n",
      "L30, T19, LD=-0.0\n",
      "L30, T20, LD=-0.0\n",
      "L30, T21, LD=-0.0\n",
      "L30, T22, LD=-0.0\n",
      "L30, T23, LD=-0.005780346820809248\n",
      "L30, T24, LD=0.005780346820809248\n",
      "L30, T25, LD=-0.0\n",
      "L30, T26, LD=0.005780346820809248\n"
     ]
    },
    {
     "name": "stderr",
     "output_type": "stream",
     "text": [
      " 97%|█████████▋| 31/32 [00:24<00:00,  1.27it/s]"
     ]
    },
    {
     "name": "stdout",
     "output_type": "stream",
     "text": [
      "L30, T27, LD=0.005780346820809248\n",
      "L30, T28, LD=-0.011560693641618497\n",
      "L30, T29, LD=0.011560693641618497\n",
      "L30, T30, LD=0.9884393063583815\n",
      "L31, T17, LD=-0.0\n",
      "L31, T18, LD=-0.0\n",
      "L31, T19, LD=-0.0\n",
      "L31, T20, LD=-0.0\n",
      "L31, T21, LD=-0.0\n",
      "L31, T22, LD=-0.0\n",
      "L31, T23, LD=-0.0\n",
      "L31, T24, LD=-0.0\n",
      "L31, T25, LD=-0.0\n",
      "L31, T26, LD=-0.0\n",
      "L31, T27, LD=-0.0\n",
      "L31, T28, LD=-0.0\n"
     ]
    },
    {
     "name": "stderr",
     "output_type": "stream",
     "text": [
      "100%|██████████| 32/32 [00:25<00:00,  1.26it/s]"
     ]
    },
    {
     "name": "stdout",
     "output_type": "stream",
     "text": [
      "L31, T29, LD=-0.0\n",
      "L31, T30, LD=1.0\n",
      "\\nPatched activations shape: 32 layers x 14 tokens\n"
     ]
    },
    {
     "name": "stderr",
     "output_type": "stream",
     "text": [
      "\n"
     ]
    }
   ],
   "source": [
    "from tqdm import trange\n",
    "\n",
    "# Patch and measure loop\n",
    "patched_activations = []\n",
    "num_layers = model.config.num_hidden_layers\n",
    "\n",
    "for l in trange(num_layers):\n",
    "    \n",
    "    patch_at_layer = []\n",
    "\n",
    "    for t in range(len(enc_rhet)):\n",
    "\n",
    "        if t < prefix_len:\n",
    "            continue\n",
    "\n",
    "        with model.trace(enc_rhet):\n",
    "\n",
    "            # Replace the residual stream output with the clean activations at that token\n",
    "            model.model.layers[l].output[0][:, t, :] = clean_activations[l][:, t-prefix_len, :]\n",
    "\n",
    "            # Get the model output logits\n",
    "            patched_logits = model.output.logits[0].save()\n",
    "\n",
    "            # Get the logits for the clean target\n",
    "            patched_target_logits = patched_logits[-1, TRUE_TOK].item().save()\n",
    "\n",
    "            # Calculate the logit difference\n",
    "            logit_diff = patched_target_logits - patched_logits[-1, FALSE_TOK].item()\n",
    "\n",
    "            # Normalize the logit difference\n",
    "            if base_diff == 0:\n",
    "                normalized_score = 0.0\n",
    "            else:\n",
    "                normalized_score = (logit_diff - base_diff) / (clean_diff - base_diff)\n",
    "\n",
    "            normalized_score = normalized_score.save()\n",
    "\n",
    "        # Print the layer, token, and logit difference\n",
    "        print(f\"L{l}, T{t}, LD={normalized_score}\")\n",
    "\n",
    "        # Append the token to our list of logit differences at the current layer\n",
    "        patch_at_layer.append(normalized_score)\n",
    "    \n",
    "    # Append each layer's logit differences list to our overall list of lists\n",
    "    patched_activations.append(patch_at_layer)\n",
    "\n",
    "print(f\"\\\\nPatched activations shape: {len(patched_activations)} layers x {len(patched_activations[0])} tokens\")\n"
   ]
  },
  {
   "cell_type": "code",
   "execution_count": 36,
   "id": "f698ab19",
   "metadata": {},
   "outputs": [
    {
     "name": "stdout",
     "output_type": "stream",
     "text": [
      "Scores shape after transpose: (14, 32)\n",
      "Data range: min=-1.2948, max=1.4740\n"
     ]
    },
    {
     "data": {
      "image/png": "[encoded data removed]",
      "text/plain": [
       "<Figure size 1200x584 with 2 Axes>"
      ]
     },
     "metadata": {},
     "output_type": "display_data"
    },
    {
     "name": "stdout",
     "output_type": "stream",
     "text": [
      "Data shape: (14, 32)\n",
      "Number of tokens: 14\n"
     ]
    }
   ],
   "source": [
    "import matplotlib.pyplot as plt\n",
    "import numpy as np\n",
    "\n",
    "# Create a 2D array: layers as rows, tokens as columns, then transpose\n",
    "scores = np.array(torch.tensor(patched_activations)).T  # Transpose so tokens are rows, layers are columns\n",
    "print(f\"Scores shape after transpose: {scores.shape}\")\n",
    "\n",
    "# Decode tokens to actual text\n",
    "corrupt_tokens = [model.tokenizer.decode([token_id]) for token_id in enc_rhet[prefix_len:]]\n",
    "clean_tokens = [model.tokenizer.decode([token_id]) for token_id in enc_clean]\n",
    "\n",
    "# Create token labels\n",
    "tokens = []\n",
    "for idx, (corrupt_tok, clean_tok) in enumerate(zip(corrupt_tokens, clean_tokens)):\n",
    "    tokens.append(f'\"{clean_tok}\"')\n",
    "\n",
    "# We will truncate to the 0 to 1 range to prioritize positive values\n",
    "# but this is the full actual range.\n",
    "print(f\"Data range: min={scores.min():.4f}, max={scores.max():.4f}\")\n",
    "\n",
    "plt.rcdefaults()\n",
    "with plt.rc_context(\n",
    "    rc={\n",
    "        \"font.family\": \"Times New Roman\",\n",
    "        \"font.size\": 6,\n",
    "    }\n",
    "):\n",
    "    # Set figure size\n",
    "    fig, ax = plt.subplots(\n",
    "        figsize=(\n",
    "            6,\n",
    "            len(tokens) * 0.08 + 1.8\n",
    "        ),\n",
    "        dpi=200\n",
    "    )\n",
    "    \n",
    "    # Scale range\n",
    "    scale_kwargs = {\n",
    "        \"vmin\": 0,\n",
    "        \"vmax\": 1\n",
    "    }\n",
    "\n",
    "    heatmap = ax.pcolor(\n",
    "        scores,\n",
    "        cmap=\"Purples\",\n",
    "        **scale_kwargs,\n",
    "    )\n",
    "\n",
    "    ax.invert_yaxis()\n",
    "    \n",
    "    # Y-axis: token labels (rows)\n",
    "    ax.set_yticks([0.5 + i for i in range(scores.shape[0])])  # Number of tokens\n",
    "    ax.set_yticklabels(tokens)\n",
    "    \n",
    "    # X-axis: layer labels (columns)\n",
    "    num_layers = scores.shape[1]\n",
    "    tick_indices = np.arange(0, num_layers, 5)\n",
    "    ax.set_xticks(tick_indices + 0.5)  # Number of layers\n",
    "    ax.set_xticklabels(tick_indices)\n",
    "\n",
    "    title = f\"Indirect Effects of Residual Layers\"\n",
    "    ax.set_title(title)\n",
    "\n",
    "    ax.set_xlabel(\"Layer\")\n",
    "    #ax.set_ylabel(\"Tokens\")\n",
    "\n",
    "    color_scale = plt.colorbar(heatmap)\n",
    "    color_scale.ax.set_title(\n",
    "        f\"Normalized Score\",\n",
    "        y=-0.12,\n",
    "        fontsize=8\n",
    "    )\n",
    "\n",
    "    plt.tight_layout()\n",
    "    plt.show()\n",
    "\n",
    "print(f\"Data shape: {scores.shape}\")\n",
    "print(f\"Number of tokens: {len(tokens)}\")\n",
    "\n"
   ]
  },
  {
   "cell_type": "code",
   "execution_count": null,
   "id": "b9b34f18",
   "metadata": {},
   "outputs": [],
   "source": []
  }
 ],
 "metadata": {
  "kernelspec": {
   "display_name": "retrieval",
   "language": "python",
   "name": "python3"
  },
  "language_info": {
   "codemirror_mode": {
    "name": "ipython",
    "version": 3
   },
   "file_extension": ".py",
   "mimetype": "text/x-python",
   "name": "python",
   "nbconvert_exporter": "python",
   "pygments_lexer": "ipython3",
   "version": "3.11.13"
  }
 },
 "nbformat": 4,
 "nbformat_minor": 5
}
